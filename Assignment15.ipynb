{
  "nbformat": 4,
  "nbformat_minor": 0,
  "metadata": {
    "colab": {
      "name": "Assignment15-template.ipynb",
      "provenance": [],
      "include_colab_link": true
    },
    "kernelspec": {
      "name": "python3",
      "display_name": "Python 3"
    },
    "language_info": {
      "name": "python"
    }
  },
  "cells": [
    {
      "cell_type": "markdown",
      "metadata": {
        "id": "view-in-github",
        "colab_type": "text"
      },
      "source": [
        "<a href=\"https://colab.research.google.com/github/zacharyjbaker/zacharyjbaker.github.io/blob/main/Assignment15.ipynb\" target=\"_parent\"><img src=\"https://colab.research.google.com/assets/colab-badge.svg\" alt=\"Open In Colab\"/></a>"
      ]
    },
    {
      "cell_type": "markdown",
      "source": [
        "## Assignment 15 Template"
      ],
      "metadata": {
        "id": "2QESRbyK731U"
      }
    },
    {
      "cell_type": "markdown",
      "source": [
        "### Imports\n",
        "\n",
        "Don't touch these; we need them for the scraper to work correctly."
      ],
      "metadata": {
        "id": "fvws--Qn8ALT"
      }
    },
    {
      "cell_type": "code",
      "execution_count": 1,
      "metadata": {
        "id": "1w8eCSaj73Xh"
      },
      "outputs": [],
      "source": [
        "from urllib.request import urlopen\n",
        "from bs4 import BeautifulSoup"
      ]
    },
    {
      "cell_type": "markdown",
      "source": [
        "### Getting the URL\n",
        "\n",
        "In the next cell, place the code to open the URL, and assign it to a variable."
      ],
      "metadata": {
        "id": "ObNR62I78I3C"
      }
    },
    {
      "cell_type": "code",
      "source": [
        "url = \"https://www.anthonypinter.com/assignment15-source.html\" # <--- later, you can replace this with the URL of your album of choice from P4K.\n",
        "html = urlopen(url)"
      ],
      "metadata": {
        "id": "GkVWBZ5s8RTT"
      },
      "execution_count": 2,
      "outputs": []
    },
    {
      "cell_type": "markdown",
      "source": [
        "### Making the Soup\n",
        "\n",
        "In the next cell, place the code to make the soup."
      ],
      "metadata": {
        "id": "jB_g4DTK8SgM"
      }
    },
    {
      "cell_type": "code",
      "source": [
        "soup = BeautifulSoup(html, 'lxml')"
      ],
      "metadata": {
        "id": "6PbrmzzS8W2D"
      },
      "execution_count": 3,
      "outputs": []
    },
    {
      "cell_type": "markdown",
      "source": [
        "### Country Name\n",
        "\n",
        "In the next cell, put the code to scrape the name of the country you selected (it cannot be Andorra or Zimbabwe). After you scrape the country's name, print it as a string."
      ],
      "metadata": {
        "id": "6PfPLJ3G8X2a"
      }
    },
    {
      "cell_type": "code",
      "source": [
        "country_name = soup.find('i', class_=\"flag-icon flag-icon-cz\").next_element\n",
        "print(country_name)"
      ],
      "metadata": {
        "id": "zJzGfr6-8sVr",
        "outputId": "9e7c6ddd-7ba6-4389-cf2d-0e65cfe7141f",
        "colab": {
          "base_uri": "https://localhost:8080/"
        }
      },
      "execution_count": 44,
      "outputs": [
        {
          "output_type": "stream",
          "name": "stdout",
          "text": [
            "\n",
            "                            Czech Republic\n",
            "                        \n"
          ]
        }
      ]
    },
    {
      "cell_type": "markdown",
      "source": [
        "### Country Capital\n",
        "\n",
        "In the next cell, put the code to scrape the name of the capital of the country you selected. After you scrape the country's capital's name, print it as a string."
      ],
      "metadata": {
        "id": "ISAcFbWa8t7R"
      }
    },
    {
      "cell_type": "code",
      "source": [
        "country_name = soup.find('i', class_=\"flag-icon flag-icon-cz\").next_element.next_element.next_element.next_element.next_element.next_element.next_element.next_element.string\n",
        "print(country_name)"
      ],
      "metadata": {
        "id": "5XUFuLAp815H",
        "outputId": "31b14938-d28b-4fb0-b509-a61fc41f9f23",
        "colab": {
          "base_uri": "https://localhost:8080/"
        }
      },
      "execution_count": 43,
      "outputs": [
        {
          "output_type": "stream",
          "name": "stdout",
          "text": [
            "Prague\n"
          ]
        }
      ]
    },
    {
      "cell_type": "markdown",
      "source": [
        "### Country Population\n",
        "\n",
        "In the next cell, put the code to scrape the population of the country you selected. After you scrape the country's population, print it as a string."
      ],
      "metadata": {
        "id": "U0tmmp-y84Zr"
      }
    },
    {
      "cell_type": "code",
      "source": [
        "country_pop = soup.find('i', class_=\"flag-icon flag-icon-cz\").next_element.next_element.next_element.next_element.next_element.next_element.next_element.next_element.next_element.next_element.next_element.next_element.next_element.next_element.next_element.string\n",
        "print(country_pop)"
      ],
      "metadata": {
        "id": "4BuQEtYS9FZY",
        "outputId": "87d5137f-f0fc-4bca-f5e2-bffb2f766401",
        "colab": {
          "base_uri": "https://localhost:8080/"
        }
      },
      "execution_count": 42,
      "outputs": [
        {
          "output_type": "stream",
          "name": "stdout",
          "text": [
            "10476000\n"
          ]
        }
      ]
    },
    {
      "cell_type": "markdown",
      "source": [
        "### Country Area\n",
        "\n",
        "In the next cell, put the code to scrape the geographic size of the country you selected. After you scrape the country's size, print it as a string."
      ],
      "metadata": {
        "id": "coOJuuuI9GvG"
      }
    },
    {
      "cell_type": "code",
      "source": [
        "country_area = soup.find('i', class_=\"flag-icon flag-icon-cz\").next_element.next_element.next_element.next_element.next_element.next_element.next_element.next_element.next_element.next_element.next_element.next_element.next_element.next_element.next_element.next_element.next_element.next_element.next_element.next_element.next_element.next_element.next_element.next_element.next_element.string\n",
        "print(country_area)"
      ],
      "metadata": {
        "id": "-gOdrVoF9Lyy",
        "outputId": "2a751d99-7223-41cc-be6b-b8439ba33005",
        "colab": {
          "base_uri": "https://localhost:8080/"
        }
      },
      "execution_count": 41,
      "outputs": [
        {
          "output_type": "stream",
          "name": "stdout",
          "text": [
            "78866.0\n"
          ]
        }
      ]
    }
  ]
}